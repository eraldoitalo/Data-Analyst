{
  "nbformat": 4,
  "nbformat_minor": 0,
  "metadata": {
    "colab": {
      "provenance": [],
      "authorship_tag": "ABX9TyOM8mClCdEJfa+r+/ZPMnCI",
      "include_colab_link": true
    },
    "kernelspec": {
      "name": "python3",
      "display_name": "Python 3"
    },
    "language_info": {
      "name": "python"
    }
  },
  "cells": [
    {
      "cell_type": "markdown",
      "metadata": {
        "id": "view-in-github",
        "colab_type": "text"
      },
      "source": [
        "<a href=\"https://colab.research.google.com/github/eraldoitalo/Data-Analyst/blob/main/Data_Analytics.ipynb\" target=\"_parent\"><img src=\"https://colab.research.google.com/assets/colab-badge.svg\" alt=\"Open In Colab\"/></a>"
      ]
    },
    {
      "cell_type": "code",
      "execution_count": null,
      "metadata": {
        "colab": {
          "base_uri": "https://localhost:8080/"
        },
        "id": "JR2pYkxieXI6",
        "outputId": "0ef225f9-c1ff-489a-8b99-cae5c7fda131"
      },
      "outputs": [
        {
          "output_type": "stream",
          "name": "stdout",
          "text": [
            "Collecting psycopg2-binary\n",
            "  Downloading psycopg2_binary-2.9.10-cp311-cp311-manylinux_2_17_x86_64.manylinux2014_x86_64.whl.metadata (4.9 kB)\n",
            "Requirement already satisfied: pandas in /usr/local/lib/python3.11/dist-packages (2.2.2)\n",
            "Requirement already satisfied: numpy>=1.23.2 in /usr/local/lib/python3.11/dist-packages (from pandas) (2.0.2)\n",
            "Requirement already satisfied: python-dateutil>=2.8.2 in /usr/local/lib/python3.11/dist-packages (from pandas) (2.8.2)\n",
            "Requirement already satisfied: pytz>=2020.1 in /usr/local/lib/python3.11/dist-packages (from pandas) (2025.2)\n",
            "Requirement already satisfied: tzdata>=2022.7 in /usr/local/lib/python3.11/dist-packages (from pandas) (2025.2)\n",
            "Requirement already satisfied: six>=1.5 in /usr/local/lib/python3.11/dist-packages (from python-dateutil>=2.8.2->pandas) (1.17.0)\n",
            "Downloading psycopg2_binary-2.9.10-cp311-cp311-manylinux_2_17_x86_64.manylinux2014_x86_64.whl (3.0 MB)\n",
            "\u001b[2K   \u001b[90m━━━━━━━━━━━━━━━━━━━━━━━━━━━━━━━━━━━━━━━━\u001b[0m \u001b[32m3.0/3.0 MB\u001b[0m \u001b[31m38.3 MB/s\u001b[0m eta \u001b[36m0:00:00\u001b[0m\n",
            "\u001b[?25hInstalling collected packages: psycopg2-binary\n",
            "Successfully installed psycopg2-binary-2.9.10\n"
          ]
        }
      ],
      "source": [
        "!pip install psycopg2-binary pandas"
      ]
    },
    {
      "cell_type": "code",
      "source": [
        "import psycopg2\n",
        "import pandas as pd"
      ],
      "metadata": {
        "id": "m5AvJtfxe0dP"
      },
      "execution_count": null,
      "outputs": []
    },
    {
      "cell_type": "code",
      "source": [
        "conn = psycopg2.connect(\n",
        "    host=\"ep-empty-butterfly-a80jq6wq-pooler.eastus2.azure.neon.tech\",  #Host no neon\n",
        "    database=\"neondb\",  #nome do banco de dados\n",
        "    user=\"neondb_owner\", #usuario do banco\n",
        "    password=\"npg_tyFNIJXP9j7g\",   #senha do banco\n",
        "    port=\"5432\",    #porta padrão do PostegreSQL\n",
        "    sslmode=\"require\"   #necessário para a conexão com o neon\n",
        ")"
      ],
      "metadata": {
        "id": "hmxyKPXafWwC"
      },
      "execution_count": null,
      "outputs": []
    },
    {
      "cell_type": "code",
      "source": [
        "cursor = conn.cursor()\n",
        "cursor.execute(\"\"\"\n",
        "CREATE TABLE IF NOT EXISTS clients (\n",
        "  id SERIAL PRIMARY KEY,\n",
        "  name VARCHAR(100),\n",
        "  email VARCHAR(100),\n",
        "  data_cadastro DATE\n",
        ");\n",
        "\"\"\")\n",
        "\n",
        "conn.commit()\n",
        "print(\"Tabela criada com sucesso!\")"
      ],
      "metadata": {
        "colab": {
          "base_uri": "https://localhost:8080/"
        },
        "id": "2Uc5PVGkxWZH",
        "outputId": "445b9b03-3e34-434c-c243-186ad306d95f"
      },
      "execution_count": null,
      "outputs": [
        {
          "output_type": "stream",
          "name": "stdout",
          "text": [
            "Tabela criada com sucesso!\n"
          ]
        }
      ]
    },
    {
      "cell_type": "code",
      "source": [
        "from datetime import date"
      ],
      "metadata": {
        "id": "AclmEidWxksd"
      },
      "execution_count": null,
      "outputs": []
    },
    {
      "cell_type": "code",
      "source": [
        "cursor.execute(\"\"\"\n",
        "INSERT INTO clients (name, email, data_cadastro)\n",
        "VALUES\n",
        "  ('Maria Santos', 'ms@email.com', %s),\n",
        "  ('Pedro Souza', 'ps@email.com', %s);\n",
        "\"\"\", (date.today(),date.today()))\n",
        "\n",
        "conn.commit()\n",
        "print(\"Dados inseridos com sucesso!\")"
      ],
      "metadata": {
        "colab": {
          "base_uri": "https://localhost:8080/"
        },
        "id": "_IdyqinoxpDK",
        "outputId": "e035cf63-4493-4d30-c704-98082695269b"
      },
      "execution_count": null,
      "outputs": [
        {
          "output_type": "stream",
          "name": "stdout",
          "text": [
            "Dados inseridos com sucesso!\n"
          ]
        }
      ]
    }
  ]
}